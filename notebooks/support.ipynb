{
 "cells": [
  {
   "cell_type": "code",
   "execution_count": null,
   "metadata": {},
   "outputs": [],
   "source": [
    "# Create a 26 alphabet list with random order of capital letters\n",
    "\n",
    "import random\n",
    "\n",
    "alphabet = list('ABCDEFGHIJKLMNOPQRSTUVWXYZ')\n",
    "\n",
    "for i in range(5):\n",
    "    random.shuffle(alphabet)\n",
    "    output = ''.join(alphabet)\n",
    "    print(output) "
   ]
  },
  {
   "cell_type": "code",
   "execution_count": null,
   "metadata": {},
   "outputs": [],
   "source": [
    "# C(m, n) = m! / (n! * (m - n)!)\n",
    "# C(26, 5) = 26! / (5! * (26 - 5)!)\n",
    "\n",
    "import math \n",
    "# select 12 letters from 26 letters\n",
    "ans1 = math.comb(26, 12)\n",
    "# put 12 letters into 6 pairs without order\n",
    "# 6 pairs can be arranged in 6! ways\n",
    "ans2 = math.comb(12, 2) * math.comb(10, 2) * math.comb(8, 2) * math.comb(6, 2) * math.comb(4, 2) * math.comb(2, 2)\n",
    "ans2 = ans2 / math.factorial(6)\n",
    "\n",
    "final_ans = ans1 * ans2\n",
    "print(final_ans)"
   ]
  },
  {
   "cell_type": "code",
   "execution_count": null,
   "metadata": {},
   "outputs": [],
   "source": [
    "\n",
    "print() \n"
   ]
  },
  {
   "cell_type": "code",
   "execution_count": null,
   "metadata": {},
   "outputs": [],
   "source": [
    "import numpy as np"
   ]
  },
  {
   "cell_type": "code",
   "execution_count": null,
   "metadata": {},
   "outputs": [],
   "source": [
    "x = [35,   40,   45,   50,   55,   60,    65,    70,   75,   80,   85,    95,   100,   105,   110,  115,   120,   125,   130,]\n",
    "x"
   ]
  },
  {
   "cell_type": "code",
   "execution_count": null,
   "metadata": {},
   "outputs": [],
   "source": [
    "x * 5"
   ]
  },
  {
   "cell_type": "code",
   "execution_count": null,
   "metadata": {},
   "outputs": [],
   "source": []
  }
 ],
 "metadata": {
  "kernelspec": {
   "display_name": "sfds",
   "language": "python",
   "name": "python3"
  },
  "language_info": {
   "codemirror_mode": {
    "name": "ipython",
    "version": 3
   },
   "file_extension": ".py",
   "mimetype": "text/x-python",
   "name": "python",
   "nbconvert_exporter": "python",
   "pygments_lexer": "ipython3",
   "version": "3.10.13"
  }
 },
 "nbformat": 4,
 "nbformat_minor": 2
}
